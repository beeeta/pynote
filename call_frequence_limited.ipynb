{
 "cells": [
  {
   "cell_type": "code",
   "execution_count": null,
   "metadata": {},
   "outputs": [],
   "source": [
    "# 实现一个装饰器，限制该函数被调用的频率，如10秒一次。"
   ]
  },
  {
   "cell_type": "code",
   "execution_count": 1,
   "metadata": {},
   "outputs": [
    {
     "name": "stdout",
     "output_type": "stream",
     "text": [
      "abc print it\n",
      "11\n",
      "abc print it\n",
      "11\n"
     ]
    }
   ],
   "source": [
    "\n",
    "from functools import wraps\n",
    "import time\n",
    "\n",
    "def limit(func):\n",
    "    \n",
    "    ltime = 0\n",
    "    @wraps(func)\n",
    "    def inner():\n",
    "        nonlocal ltime\n",
    "        now = time.time()\n",
    "        if now - ltime >10:\n",
    "            ltime = now\n",
    "            return func()\n",
    "        else :\n",
    "            raise ValueError('call {} too frequence'.format(func.__name__))\n",
    "\n",
    "    return inner\n",
    "\n",
    "@limit\n",
    "def abc():\n",
    "    print('abc print it')\n",
    "    return 11\n",
    "\n",
    "\n",
    "print(abc())\n",
    "time.sleep(10)\n",
    "print(abc())\n",
    "\n"
   ]
  },
  {
   "cell_type": "code",
   "execution_count": null,
   "metadata": {},
   "outputs": [],
   "source": []
  }
 ],
 "metadata": {
  "kernelspec": {
   "display_name": "Python 3",
   "language": "python",
   "name": "python3"
  },
  "language_info": {
   "codemirror_mode": {
    "name": "ipython",
    "version": 3
   },
   "file_extension": ".py",
   "mimetype": "text/x-python",
   "name": "python",
   "nbconvert_exporter": "python",
   "pygments_lexer": "ipython3",
   "version": "3.6.5"
  }
 },
 "nbformat": 4,
 "nbformat_minor": 2
}
