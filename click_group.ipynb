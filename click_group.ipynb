{
 "cells": [
  {
   "cell_type": "code",
   "execution_count": null,
   "metadata": {},
   "outputs": [],
   "source": [
    "# 记录click group的使用 \n",
    "# python main.py com1 [options]"
   ]
  },
  {
   "cell_type": "code",
   "execution_count": null,
   "metadata": {},
   "outputs": [],
   "source": [
    "import click\n",
    "\n",
    "@click.group()\n",
    "def gp():\n",
    "    click.echo('group echo')\n",
    "\n",
    "@gp.command(name='supercom')\n",
    "@click.option('--shout', is_flag=True)\n",
    "def com1(shout):\n",
    "    print('shout value:{}'.format(shout))\n",
    "    click.echo('command1 echo')\n",
    "\n",
    "@gp.command()\n",
    "def com2():\n",
    "    click.echo('command2 echo')\n",
    "\n",
    "if __name__ == '__main__':\n",
    "    gp()"
   ]
  }
 ],
 "metadata": {
  "kernelspec": {
   "display_name": "Python 3",
   "language": "python",
   "name": "python3"
  },
  "language_info": {
   "codemirror_mode": {
    "name": "ipython",
    "version": 3
   },
   "file_extension": ".py",
   "mimetype": "text/x-python",
   "name": "python",
   "nbconvert_exporter": "python",
   "pygments_lexer": "ipython3",
   "version": "3.6.5"
  }
 },
 "nbformat": 4,
 "nbformat_minor": 2
}
