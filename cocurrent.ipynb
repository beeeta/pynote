{
 "cells": [
  {
   "cell_type": "code",
   "execution_count": 1,
   "metadata": {},
   "outputs": [
    {
     "name": "stdout",
     "output_type": "stream",
     "text": [
      "b'hello\\r\\n'\n",
      "b''\n",
      "0\n"
     ]
    }
   ],
   "source": [
    "# 基于子进程\n",
    "from subprocess import Popen,PIPE\n",
    "\n",
    "p = Popen(['echo','hello'],stdout=PIPE,stderr=PIPE,shell=True)\n",
    "\n",
    "out,err = p.communicate()\n",
    "print(out)\n",
    "print(err)\n",
    "\n",
    "code = p.returncode\n",
    "print(code)\n",
    "\n",
    "\n"
   ]
  },
  {
   "cell_type": "code",
   "execution_count": 7,
   "metadata": {},
   "outputs": [
    {
     "name": "stdout",
     "output_type": "stream",
     "text": [
      "435\n",
      "435\n"
     ]
    }
   ],
   "source": [
    "# 基于线程\n",
    "\n",
    "from threading import Thread\n",
    "from functools import reduce\n",
    "\n",
    "\n",
    "def foo(count):\n",
    "    if not isinstance(count,int):\n",
    "        raise ValueError('count type should be int')\n",
    "    print(reduce(lambda x,y:x+y, range(count)))\n",
    "    \n",
    "th = Thread(target=foo,args=(30,))\n",
    "th.start()\n",
    "\n",
    "class Foo(Thread):\n",
    "    def __init__(self,count):\n",
    "        super(Foo,self).__init__()\n",
    "        self._c = count\n",
    "        \n",
    "    def run(self):\n",
    "         print(reduce(lambda x,y:x+y, range(self._c)))\n",
    "        \n",
    "f = Foo(30)\n",
    "f.start()"
   ]
  },
  {
   "cell_type": "code",
   "execution_count": 11,
   "metadata": {},
   "outputs": [
    {
     "name": "stdout",
     "output_type": "stream",
     "text": [
      "put in task\n",
      "put in task\n",
      "put in task\n",
      "put in task\n",
      "put in task\n",
      "9227465\n",
      "put in task\n",
      "put in task\n",
      "put in task\n",
      "9227465\n",
      "put in task\n",
      "put in task\n",
      "9227465\n",
      "put in task\n",
      "9227465\n",
      "put in task\n",
      "put in task\n",
      "9227465\n"
     ]
    }
   ],
   "source": [
    "# 基于生产者消费者模式\n",
    "from queue import Queue\n",
    "from threading import Thread\n",
    "import time\n",
    "import random\n",
    "\n",
    "\n",
    "q = Queue()\n",
    "\n",
    "def fib(n):\n",
    "    if n<=2:\n",
    "        return 1\n",
    "    else:\n",
    "        return fib(n-1) + fib(n-2)\n",
    "    \n",
    "def producer():\n",
    "    while True:\n",
    "        q.put((fib,35))\n",
    "        print('put in task')\n",
    "        time.sleep(random.random()*5)\n",
    "\n",
    "def consumer():\n",
    "    while True:\n",
    "        task,*arg = q.get()\n",
    "        print(task(*arg))\n",
    "        q.task_done()\n",
    "        \n",
    "p = Thread(target=producer)\n",
    "c = Thread(target=consumer)\n",
    "\n",
    "p.start()\n",
    "c.start()"
   ]
  },
  {
   "cell_type": "code",
   "execution_count": null,
   "metadata": {},
   "outputs": [],
   "source": [
    "# 线程中的并发控制工具\n",
    "from threading import Lock,RLock,Semaphore,Event\n",
    "\n",
    "# Lock, RLock, 锁，用于控制数据的竞争\n",
    "lock = Lock()\n",
    "sum = 0\n",
    "\n",
    "def lockfunc():\n",
    "    with lock:\n",
    "        global sum\n",
    "        sum += 1\n",
    "\n",
    "sem = Semaphore(5)\n",
    "\n",
    "def semfunc():\n",
    "    with sem:\n",
    "        do_longtime_task()\n",
    "\n",
    "e = Event()\n",
    "\n",
    "def awfunc():\n",
    "    print('start await function')\n",
    "    e.wait() // 经过这里的线程都会在此等待e.set\n",
    "\n",
    "def callfunc():\n",
    "    print('call await function')\n",
    "    e.set() // 一对多的触发所有wait的线程\n",
    "    \n"
   ]
  },
  {
   "cell_type": "code",
   "execution_count": null,
   "metadata": {},
   "outputs": [],
   "source": [
    "# 关于Futures 对象\n",
    "\n",
    "from concurrent.futures import ThreadPoolExecutor\n",
    "from concurrent import futures\n",
    "\n",
    "with ThreadPoolExecutor(3) as e:\n",
    "    fu = e.submit(fun,[arg1,arg2])\n",
    "    # 第一种方法\n",
    "    fu.result()\n",
    "    # 第二种方法\n",
    "    fus = [fu1,fu2]\n",
    "    \n",
    "    # 阻塞直到结束\n",
    "    complete = futures.as_completed(fus)\n",
    "    for _ in compile:\n",
    "        print(_.result())\n",
    "    # 第三种方法\n",
    "    fus.add_done_callback(lambda future:***)\n",
    "    \n"
   ]
  }
 ],
 "metadata": {
  "kernelspec": {
   "display_name": "Python 3",
   "language": "python",
   "name": "python3"
  },
  "language_info": {
   "codemirror_mode": {
    "name": "ipython",
    "version": 3
   },
   "file_extension": ".py",
   "mimetype": "text/x-python",
   "name": "python",
   "nbconvert_exporter": "python",
   "pygments_lexer": "ipython3",
   "version": "3.6.6"
  }
 },
 "nbformat": 4,
 "nbformat_minor": 2
}
