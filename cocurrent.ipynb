{
 "cells": [
  {
   "cell_type": "code",
   "execution_count": 1,
   "metadata": {},
   "outputs": [
    {
     "name": "stdout",
     "output_type": "stream",
     "text": [
      "b'hello\\r\\n'\n",
      "b''\n",
      "0\n"
     ]
    }
   ],
   "source": [
    "# 基于子进程\n",
    "from subprocess import Popen,PIPE\n",
    "\n",
    "p = Popen(['echo','hello'],stdout=PIPE,stderr=PIPE,shell=True)\n",
    "\n",
    "out,err = p.communicate()\n",
    "print(out)\n",
    "print(err)\n",
    "\n",
    "code = p.returncode\n",
    "print(code)\n",
    "\n",
    "\n"
   ]
  },
  {
   "cell_type": "code",
   "execution_count": 7,
   "metadata": {},
   "outputs": [
    {
     "name": "stdout",
     "output_type": "stream",
     "text": [
      "435\n",
      "435\n"
     ]
    }
   ],
   "source": [
    "# 基于线程\n",
    "\n",
    "from threading import Thread\n",
    "from functools import reduce\n",
    "\n",
    "\n",
    "def foo(count):\n",
    "    if not isinstance(count,int):\n",
    "        raise ValueError('count type should be int')\n",
    "    print(reduce(lambda x,y:x+y, range(count)))\n",
    "    \n",
    "th = Thread(target=foo,args=(30,))\n",
    "th.start()\n",
    "\n",
    "class Foo(Thread):\n",
    "    def __init__(self,count):\n",
    "        super(Foo,self).__init__()\n",
    "        self._c = count\n",
    "        \n",
    "    def run(self):\n",
    "         print(reduce(lambda x,y:x+y, range(self._c)))\n",
    "        \n",
    "f = Foo(30)\n",
    "f.start()"
   ]
  },
  {
   "cell_type": "code",
   "execution_count": null,
   "metadata": {},
   "outputs": [],
   "source": []
  }
 ],
 "metadata": {
  "kernelspec": {
   "display_name": "Python 3",
   "language": "python",
   "name": "python3"
  },
  "language_info": {
   "codemirror_mode": {
    "name": "ipython",
    "version": 3
   },
   "file_extension": ".py",
   "mimetype": "text/x-python",
   "name": "python",
   "nbconvert_exporter": "python",
   "pygments_lexer": "ipython3",
   "version": "3.6.6"
  }
 },
 "nbformat": 4,
 "nbformat_minor": 2
}
