{
 "cells": [
  {
   "cell_type": "code",
   "execution_count": null,
   "metadata": {},
   "outputs": [],
   "source": [
    "# refer: https://github.com/kennethreitz/blindspin.git\n"
   ]
  },
  {
   "cell_type": "code",
   "execution_count": 26,
   "metadata": {},
   "outputs": [],
   "source": [
    "# -*- coding: utf-8 -*-\n",
    "\n",
    "import sys\n",
    "from contextlib import contextmanager\n",
    "from itertools import cycle\n",
    "import threading\n",
    "import time\n"
   ]
  },
  {
   "cell_type": "code",
   "execution_count": 27,
   "metadata": {},
   "outputs": [],
   "source": [
    "@contextmanager\n",
    "def bindspin():\n",
    "    event = threading.Event()\n",
    "    def show_spin():\n",
    "        pic = cycle(u'|/-\\\\')\n",
    "        sys.stdout.write('\\b')\n",
    "        while not event.is_set():\n",
    "            next_val = next(pic)\n",
    "            if sys.version_info[0] == 2:\n",
    "                next_val = next_val.encode('utf-8')\n",
    "            sys.stdout.write(next_val)\n",
    "            sys.stdout.flush()\n",
    "            time.sleep(0.07)\n",
    "            sys.stdout.write('\\b')\n",
    "    thread = threading.Thread(target=show_spin)\n",
    "    thread.start()\n",
    "    try:\n",
    "        yield\n",
    "    finally:\n",
    "        event.set()\n",
    "        thread.join()"
   ]
  },
  {
   "cell_type": "code",
   "execution_count": 28,
   "metadata": {},
   "outputs": [
    {
     "name": "stdout",
     "output_type": "stream",
     "text": [
      "\b|init work\n",
      "\b/finish work\n",
      "\b"
     ]
    }
   ],
   "source": [
    "def work():\n",
    "    print('init work')\n",
    "    time.sleep(3)\n",
    "    print('finish work')\n",
    "\n",
    "if __name__ == '__main__':\n",
    "    with bindspin():\n",
    "        work()\n"
   ]
  },
  {
   "cell_type": "code",
   "execution_count": null,
   "metadata": {},
   "outputs": [],
   "source": []
  }
 ],
 "metadata": {
  "kernelspec": {
   "display_name": "Python 3",
   "language": "python",
   "name": "python3"
  },
  "language_info": {
   "codemirror_mode": {
    "name": "ipython",
    "version": 3
   },
   "file_extension": ".py",
   "mimetype": "text/x-python",
   "name": "python",
   "nbconvert_exporter": "python",
   "pygments_lexer": "ipython3",
   "version": "3.6.5"
  }
 },
 "nbformat": 4,
 "nbformat_minor": 2
}
