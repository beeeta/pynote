{
 "cells": [
  {
   "cell_type": "code",
   "execution_count": 1,
   "metadata": {},
   "outputs": [],
   "source": [
    "import math"
   ]
  },
  {
   "cell_type": "code",
   "execution_count": 5,
   "metadata": {},
   "outputs": [],
   "source": [
    "def encryptChar(target):\n",
    "    #encrytion algorithm\n",
    "    target=(((target+42)*math.pi)-449)\n",
    "    return target\n",
    "\n",
    "def decryptChar(target):\n",
    "    target=(((target+449)/math.pi)-42)\n",
    "    return target\n",
    "\n",
    "def encrypt(input_text):\n",
    "    col_values= []\n",
    "    for i in range (len(input_text)):\n",
    "        current=ord(input_text[i])\n",
    "        current=encryptChar(current)\n",
    "        col_values.append(current)\n",
    "    return col_values\n",
    "\n",
    "def decrypt(enc_text):\n",
    "    col_values = []\n",
    "    for i in range (len(enc_text)):\n",
    "        current=int(decryptChar(enc_text[i]))\n",
    "        current=chr(current)\n",
    "        col_values.append(current)\n",
    "    return ''.join(col_values)\n",
    "\n"
   ]
  },
  {
   "cell_type": "code",
   "execution_count": 6,
   "metadata": {},
   "outputs": [
    {
     "name": "stdout",
     "output_type": "stream",
     "text": [
      "[-12.31862115101876, -9.177028497428978, -6.0354358438391955, -216.5221436343553, -9.177028497428978, -6.0354358438391955, -2.893843190249356, -216.5221436343553, -2.893843190249356, 0.24774946334042625, 3.3893421169302087]\n",
      "--------\n",
      "abc bcd def\n"
     ]
    }
   ],
   "source": [
    "if __name__ == '__main__':\n",
    "    encryed = encrypt('abc bcd def')\n",
    "    print(encryed)\n",
    "    print('--------')\n",
    "    print(decrypt(encryed))"
   ]
  },
  {
   "cell_type": "code",
   "execution_count": null,
   "metadata": {},
   "outputs": [],
   "source": []
  }
 ],
 "metadata": {
  "kernelspec": {
   "display_name": "Python 3",
   "language": "python",
   "name": "python3"
  },
  "language_info": {
   "codemirror_mode": {
    "name": "ipython",
    "version": 3
   },
   "file_extension": ".py",
   "mimetype": "text/x-python",
   "name": "python",
   "nbconvert_exporter": "python",
   "pygments_lexer": "ipython3",
   "version": "3.6.5"
  }
 },
 "nbformat": 4,
 "nbformat_minor": 2
}
