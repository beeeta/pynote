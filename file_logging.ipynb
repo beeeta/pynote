{
 "cells": [
  {
   "cell_type": "code",
   "execution_count": 2,
   "metadata": {},
   "outputs": [],
   "source": [
    "\"\"\"\n",
    "simple file logging\n",
    "\"\"\"\n",
    "import logging\n",
    "import datetime\n"
   ]
  },
  {
   "cell_type": "code",
   "execution_count": 12,
   "metadata": {},
   "outputs": [],
   "source": [
    "today_str = datetime.date.today().strftime('%Y-%m-%d')\n",
    "\n",
    "fileHandler = logging.FileHandler(filename='log_{}.txt'.format(today_str))\n",
    "\n",
    "formatter = logging.Formatter('%(asctime)s - %(name)s - %(levelname)s - %(message)s')\n",
    "\n",
    "fileHandler.setFormatter(formatter)\n",
    "\n",
    "logger = logging.getLogger(__name__)\n",
    "\n",
    "# jupyter notebook 中多次执行会绑定多个handler,所以这里先清空handlers\n",
    "logger.handlers = []\n",
    "\n",
    "logger.addHandler(fileHandler)\n",
    "\n",
    "logger.setLevel(logging.DEBUG)\n"
   ]
  },
  {
   "cell_type": "code",
   "execution_count": 13,
   "metadata": {},
   "outputs": [],
   "source": [
    "if __name__ == '__main__':\n",
    "    logger.debug('debug logging')\n",
    "    logger.info('info logging')\n",
    "    logger.warning('warn logging')\n",
    "    logger.error('error logging')"
   ]
  },
  {
   "cell_type": "code",
   "execution_count": null,
   "metadata": {},
   "outputs": [],
   "source": []
  }
 ],
 "metadata": {
  "kernelspec": {
   "display_name": "Python 3",
   "language": "python",
   "name": "python3"
  },
  "language_info": {
   "codemirror_mode": {
    "name": "ipython",
    "version": 3
   },
   "file_extension": ".py",
   "mimetype": "text/x-python",
   "name": "python",
   "nbconvert_exporter": "python",
   "pygments_lexer": "ipython3",
   "version": "3.6.5"
  }
 },
 "nbformat": 4,
 "nbformat_minor": 2
}
