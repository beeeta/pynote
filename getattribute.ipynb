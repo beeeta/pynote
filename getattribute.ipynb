{
 "cells": [
  {
   "cell_type": "code",
   "execution_count": 20,
   "metadata": {},
   "outputs": [
    {
     "name": "stdout",
     "output_type": "stream",
     "text": [
      "in getattribute\n",
      "{'d': 'adfaf', 'abc': 'abc'}\n",
      "------\n",
      "in getattribute\n",
      "abc\n",
      "------\n",
      "in getattribute\n",
      "in getattr\n",
      "<function Foo.__getattr__.<locals>.<lambda> at 0x0000020CA8115AE8>\n",
      "------\n",
      "in getattribute\n",
      "foo\n",
      "======\n",
      "in getattribute\n",
      "adfaf\n",
      "======\n",
      "in getattribute\n",
      "in getattr\n",
      "116\n",
      "======\n",
      "in getattribute\n",
      "pro result\n",
      "======\n",
      "in getattribute\n",
      "self print it\n",
      "None\n"
     ]
    }
   ],
   "source": [
    "# __getattribute__,描述器,__getattr__构成了对象访问的所有特性\n",
    "\n",
    "class Descr:\n",
    "    def __init__(self):\n",
    "        self.ddd = 'ddd'\n",
    "    \n",
    "    def __get__(self,obj,typ):\n",
    "        print('descr get')\n",
    "        return self.ddd\n",
    "    \n",
    "#     def __set__(self,obj,value):\n",
    "#         print('descr set')\n",
    "#         self.key = value\n",
    "\n",
    "\n",
    "class Foo:\n",
    "    name = 'foo'\n",
    "    d = Descr()\n",
    "    \n",
    "    def __init__(self):\n",
    "        self.d = 'adfaf'\n",
    "    \n",
    "    def __getattr__(self,key):\n",
    "        print('in getattr')\n",
    "        return lambda :116\n",
    "    \n",
    "    def __getattribute__(self,key):\n",
    "        print('in getattribute')\n",
    "        return super(Foo,self).__getattribute__(key)\n",
    "    \n",
    "    @property\n",
    "    def pro(self):\n",
    "        return 'pro result'\n",
    "    \n",
    "    def meth(self):\n",
    "        print('self print it')\n",
    "    \n",
    "foo = Foo()\n",
    "foo.abc = 'abc'\n",
    "\n",
    "\n",
    "print(foo.__dict__)\n",
    "print('------')\n",
    "print(foo.abc)\n",
    "print('------')\n",
    "print(foo.ddd)\n",
    "print('------')\n",
    "print(foo.name)\n",
    "print('======')\n",
    "print(foo.d)\n",
    "print('======')\n",
    "print(foo.fff())\n",
    "print('======')\n",
    "print(foo.pro)\n",
    "print('======')\n",
    "print(foo.meth())\n",
    "\n"
   ]
  },
  {
   "cell_type": "code",
   "execution_count": null,
   "metadata": {},
   "outputs": [],
   "source": []
  },
  {
   "cell_type": "code",
   "execution_count": null,
   "metadata": {},
   "outputs": [],
   "source": []
  }
 ],
 "metadata": {
  "kernelspec": {
   "display_name": "Python 3",
   "language": "python",
   "name": "python3"
  },
  "language_info": {
   "codemirror_mode": {
    "name": "ipython",
    "version": 3
   },
   "file_extension": ".py",
   "mimetype": "text/x-python",
   "name": "python",
   "nbconvert_exporter": "python",
   "pygments_lexer": "ipython3",
   "version": "3.6.6"
  }
 },
 "nbformat": 4,
 "nbformat_minor": 2
}
