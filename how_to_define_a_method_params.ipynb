{
 "cells": [
  {
   "cell_type": "code",
   "execution_count": 5,
   "metadata": {},
   "outputs": [],
   "source": [
    "# pass\n",
    "def methed1(param1,*param2):\n",
    "    pass\n",
    "\n",
    "# pass\n",
    "def method2(param1,*,param2):\n",
    "    pass\n",
    "\n",
    "# block\n",
    "#def method3(param1,param2,*):\n",
    "#    pass\n",
    "\n",
    "# pass\n",
    "def method4(param1,*param2,param3=None,**kwargs):\n",
    "    pass\n",
    "\n",
    "# pass\n",
    "def method5(param1,*,param2,**kwargs):\n",
    "    pass\n",
    "\n",
    "def method6(param1,*,param2,param3=None,**kwargs):\n",
    "    pass"
   ]
  },
  {
   "cell_type": "code",
   "execution_count": null,
   "metadata": {},
   "outputs": [],
   "source": []
  },
  {
   "cell_type": "code",
   "execution_count": null,
   "metadata": {},
   "outputs": [],
   "source": []
  }
 ],
 "metadata": {
  "kernelspec": {
   "display_name": "Python 3",
   "language": "python",
   "name": "python3"
  },
  "language_info": {
   "codemirror_mode": {
    "name": "ipython",
    "version": 3
   },
   "file_extension": ".py",
   "mimetype": "text/x-python",
   "name": "python",
   "nbconvert_exporter": "python",
   "pygments_lexer": "ipython3",
   "version": "3.6.5"
  }
 },
 "nbformat": 4,
 "nbformat_minor": 2
}
