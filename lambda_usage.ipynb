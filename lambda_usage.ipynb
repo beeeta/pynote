{
 "cells": [
  {
   "cell_type": "code",
   "execution_count": null,
   "metadata": {},
   "outputs": [],
   "source": [
    "# 现有字典d={'a':26,'g':20,'e':22,'c':24,'d':23,'f':21,'b':25}请按照字段中的value进行排序"
   ]
  },
  {
   "cell_type": "code",
   "execution_count": null,
   "metadata": {},
   "outputs": [],
   "source": [
    "from operator import getitem\n",
    "\n",
    "\n",
    "d = {'a':26,'g':20,'e':22,'c':24,'d':23,'f':21,'b':25}\n",
    "# 转化为元组再排序\n",
    "new_tuple = sorted(d.items(),key = lambda x:x[1])\n",
    "nd = {x[0]:x[1] for x in new_tuple} \n",
    "print(nd)"
   ]
  },
  {
   "cell_type": "code",
   "execution_count": null,
   "metadata": {},
   "outputs": [],
   "source": [
    "# 累加求和"
   ]
  },
  {
   "cell_type": "code",
   "execution_count": null,
   "metadata": {},
   "outputs": [],
   "source": [
    "from functools import reduce\n",
    "\n",
    "def reduce_add(num):\n",
    "    return reduce(lambda x,y:x+y,range(1,num+1))\n",
    "\n",
    "\n",
    "if __name__ == '__main__':\n",
    "    print(reduce_add(100))"
   ]
  }
 ],
 "metadata": {
  "kernelspec": {
   "display_name": "Python 3",
   "language": "python",
   "name": "python3"
  },
  "language_info": {
   "codemirror_mode": {
    "name": "ipython",
    "version": 3
   },
   "file_extension": ".py",
   "mimetype": "text/x-python",
   "name": "python",
   "nbconvert_exporter": "python",
   "pygments_lexer": "ipython3",
   "version": "3.6.5"
  }
 },
 "nbformat": 4,
 "nbformat_minor": 2
}
