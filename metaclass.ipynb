{
 "cells": [
  {
   "cell_type": "code",
   "execution_count": 30,
   "metadata": {},
   "outputs": [
    {
     "name": "stdout",
     "output_type": "stream",
     "text": [
      "in meta new method\n",
      "<class '__main__.FooMeta'>\n",
      "Foo\n",
      "()\n",
      "{'__module__': '__main__', '__qualname__': 'Foo', '__new__': <function Foo.__new__ at 0x000001DDBE1EA488>, '__init__': <function Foo.__init__ at 0x000001DDBE200048>, '__classcell__': <cell at 0x000001DDBE1A1FA8: empty>}\n",
      "----\n",
      "in meta init method\n",
      "<class '__main__.Foo'>\n",
      "Foo\n",
      "()\n",
      "{'__module__': '__main__', '__qualname__': 'Foo', '__new__': <function Foo.__new__ at 0x000001DDBE1EA488>, '__init__': <function Foo.__init__ at 0x000001DDBE200048>, '__classcell__': <cell at 0x000001DDBE1A1FA8: FooMeta object at 0x000001DDBDA8D258>}\n",
      "----\n",
      "in foo new method\n",
      "<class '__main__.Foo'>\n",
      "()\n",
      "{}\n",
      "----\n",
      "in foo init method\n",
      "<__main__.Foo object at 0x000001DDBE219A58>\n",
      "----\n"
     ]
    }
   ],
   "source": [
    "\n",
    "class FooMeta(type):\n",
    "    def __new__(metacls,name,bases,dct):\n",
    "        print('in meta new method')\n",
    "        print(metacls)\n",
    "        print(name)\n",
    "        print(bases)\n",
    "        print(dct)\n",
    "        print('----')\n",
    "        return type.__new__(metacls,name,bases,dct)\n",
    "    \n",
    "    def __init__(cls,name,bases,dct):\n",
    "        print('in meta init method')\n",
    "        print(cls)\n",
    "        print(name)\n",
    "        print(bases)\n",
    "        print(dct)\n",
    "        print('----')\n",
    "        super(FooMeta,cls).__init__(name,bases,dct)\n",
    "        \n",
    "#     def __call__(cls,*args,**kwargs):\n",
    "#         print('in meta call method')\n",
    "#         print(cls)\n",
    "#         print('----')\n",
    "#         self.__new__(cls,*args,**kwargs)\n",
    "        # 这里是怎么调用__init__方法的呢？\n",
    "        \n",
    "    \n",
    "\n",
    "class Foo(metaclass=FooMeta):\n",
    "    def __new__(cls,*args,**kwargs):\n",
    "        print('in foo new method')\n",
    "        print(cls)\n",
    "        print(args)\n",
    "        print(kwargs)\n",
    "        print('----')\n",
    "        return super(Foo,cls).__new__(cls,*args,**kwargs)\n",
    "        \n",
    "    def __init__(self):\n",
    "        print('in foo init method')\n",
    "        print(self)\n",
    "        print('----')\n",
    "        super(Foo,self).__init__()\n",
    "        \n",
    "        \n",
    "foo = Foo()"
   ]
  },
  {
   "cell_type": "code",
   "execution_count": null,
   "metadata": {},
   "outputs": [],
   "source": []
  }
 ],
 "metadata": {
  "kernelspec": {
   "display_name": "Python 3",
   "language": "python",
   "name": "python3"
  },
  "language_info": {
   "codemirror_mode": {
    "name": "ipython",
    "version": 3
   },
   "file_extension": ".py",
   "mimetype": "text/x-python",
   "name": "python",
   "nbconvert_exporter": "python",
   "pygments_lexer": "ipython3",
   "version": "3.6.6"
  }
 },
 "nbformat": 4,
 "nbformat_minor": 2
}
