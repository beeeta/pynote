{
 "cells": [
  {
   "cell_type": "code",
   "execution_count": 25,
   "metadata": {},
   "outputs": [
    {
     "name": "stdout",
     "output_type": "stream",
     "text": [
      "in meta new method\n",
      "<class '__main__.FooMeta'>\n",
      "Foo\n",
      "()\n",
      "{'__module__': '__main__', '__qualname__': 'Foo', '__new__': <function Foo.__new__ at 0x00000176AC7A7F28>, '__init__': <function Foo.__init__ at 0x00000176AC824730>, '__classcell__': <cell at 0x00000176AC7471F8: empty>}\n",
      "----\n",
      "in meta init method\n",
      "<class '__main__.Foo'>\n",
      "Foo\n",
      "()\n",
      "{'__module__': '__main__', '__qualname__': 'Foo', '__new__': <function Foo.__new__ at 0x00000176AC7A7F28>, '__init__': <function Foo.__init__ at 0x00000176AC824730>, '__classcell__': <cell at 0x00000176AC7471F8: FooMeta object at 0x00000176AC0EAB28>, 'meta_new_attr': 'meta_new_attr'}\n",
      "----\n",
      "===========\n",
      "in foo new method\n",
      "<class '__main__.Foo'>\n",
      "()\n",
      "{}\n",
      "----\n",
      "in foo init method\n",
      "<__main__.Foo object at 0x00000176AC8A81D0>\n",
      "----\n",
      "*****\n",
      "<class '__main__.FooMeta'>\n",
      "*****\n",
      "['__class__', '__delattr__', '__dict__', '__dir__', '__doc__', '__eq__', '__format__', '__ge__', '__getattribute__', '__gt__', '__hash__', '__init__', '__init_subclass__', '__le__', '__lt__', '__module__', '__ne__', '__new__', '__reduce__', '__reduce_ex__', '__repr__', '__setattr__', '__sizeof__', '__str__', '__subclasshook__', '__weakref__', 'foo_new', 'meta_new_attr']\n",
      "{'abcccc': 'abcccc'}\n",
      "['__class__', '__delattr__', '__dict__', '__dir__', '__doc__', '__eq__', '__format__', '__ge__', '__getattribute__', '__gt__', '__hash__', '__init__', '__init_subclass__', '__le__', '__lt__', '__module__', '__ne__', '__new__', '__reduce__', '__reduce_ex__', '__repr__', '__setattr__', '__sizeof__', '__str__', '__subclasshook__', '__weakref__', 'foo_new', 'meta_new_attr']\n"
     ]
    }
   ],
   "source": [
    "\n",
    "class FooMeta(type):\n",
    "    def __new__(metacls,name,bases,dct):\n",
    "        print('in meta new method')\n",
    "        print(metacls)\n",
    "        print(name)\n",
    "        print(bases)\n",
    "        print(dct)\n",
    "        dct['meta_new_attr'] = 'meta_new_attr'\n",
    "        print('----')\n",
    "        return type.__new__(metacls,name,bases,dct)\n",
    "    \n",
    "    def __init__(cls,name,bases,dct):\n",
    "        print('in meta init method')\n",
    "        print(cls)\n",
    "        print(name)\n",
    "        print(bases)\n",
    "        print(dct)\n",
    "        dct['meta_init_attr'] = 'meta_init_attr'\n",
    "        print('----')\n",
    "        super(FooMeta,cls).__init__(name,bases,dct)\n",
    "        \n",
    "#     def __call__(cls,*args,**kwargs):\n",
    "#         print('in meta call method')\n",
    "#         print(cls)\n",
    "#         print('----')\n",
    "#         super(FooMeta,cls).__call__(cls,*args,**kwargs)\n",
    "        \n",
    "    \n",
    "\n",
    "class Foo(metaclass=FooMeta):\n",
    "    def __new__(cls,*args,**kwargs):\n",
    "        print('in foo new method')\n",
    "        print(cls)\n",
    "        print(args)\n",
    "        print(kwargs)\n",
    "        print('----')\n",
    "        setattr(cls,'foo_new','foo_new')\n",
    "        return super(Foo,cls).__new__(cls,*args,**kwargs)\n",
    "        \n",
    "    def __init__(self,*args,**kwargs):\n",
    "        print('in foo init method')\n",
    "        print(self)\n",
    "        print('----')\n",
    "        super(Foo,self).__init__(*args,**kwargs)\n",
    "        \n",
    "print('===========')\n",
    "foo = Foo()\n",
    "print('*****')\n",
    "print(type(Foo))\n",
    "print('*****')\n",
    "print(dir(foo))\n",
    "foo.abcccc = 'abcccc'\n",
    "print(foo.__dict__)\n",
    "print(dir(Foo))"
   ]
  },
  {
   "cell_type": "code",
   "execution_count": 13,
   "metadata": {},
   "outputs": [
    {
     "name": "stdout",
     "output_type": "stream",
     "text": [
      "{}\n"
     ]
    }
   ],
   "source": [
    "class TT:\n",
    "    pass\n",
    "\n",
    "tt = TT()\n",
    "print(tt.__dict__)"
   ]
  },
  {
   "cell_type": "code",
   "execution_count": null,
   "metadata": {},
   "outputs": [],
   "source": []
  }
 ],
 "metadata": {
  "kernelspec": {
   "display_name": "Python 3",
   "language": "python",
   "name": "python3"
  },
  "language_info": {
   "codemirror_mode": {
    "name": "ipython",
    "version": 3
   },
   "file_extension": ".py",
   "mimetype": "text/x-python",
   "name": "python",
   "nbconvert_exporter": "python",
   "pygments_lexer": "ipython3",
   "version": "3.6.5"
  }
 },
 "nbformat": 4,
 "nbformat_minor": 2
}
