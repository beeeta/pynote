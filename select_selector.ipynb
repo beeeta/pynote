{
 "cells": [
  {
   "cell_type": "markdown",
   "metadata": {},
   "source": [
    "## select  \n",
    "\n",
    "参考：http://www.cnblogs.com/coser/archive/2012/01/06/2315216.html\n",
    "\n",
    "select检查可读可写的条件，需要放在循环当中，然后在子循环当中对readable,writable,exceptional进行操作\n"
   ]
  },
  {
   "cell_type": "code",
   "execution_count": null,
   "metadata": {},
   "outputs": [],
   "source": [
    "\n",
    "import select\n",
    "\n",
    "readable,writable,exceptional = select.select([readables],[writeables],[xconditions],timeout)\n",
    "\n"
   ]
  },
  {
   "cell_type": "markdown",
   "metadata": {},
   "source": [
    "## selector\n",
    "参考：http://ifeve.com/selectors/\n",
    "\n",
    "    "
   ]
  },
  {
   "cell_type": "code",
   "execution_count": null,
   "metadata": {},
   "outputs": [],
   "source": [
    "import selectors\n",
    "import socket\n",
    "sock=socket.socket()\n",
    " \n",
    "sock.bind((\"127.0.0.1\",8000))\n",
    "sock.listen(5)\n",
    "sock.setblocking(False)\n",
    " \n",
    "sel=selectors.DefaultSelector()  ##根据具体平台选择最佳IO多路机制，比如在linux，选择epoll\n",
    " \n",
    "def read(conn,mask):\n",
    "    try:\n",
    "        data=conn.recv(1024)\n",
    "        print(data.decode(\"utf8\"))\n",
    "        msg=input(\">>\")\n",
    "        conn.send(msg.encode(\"utf8\"))\n",
    "    except Exception:\n",
    "        sel.unregister(conn)\n",
    "def accept(sock,mask):\n",
    "    conn,addr=sock.accept()\n",
    "    sel.register(conn,selectors.EVENT_READ,read)\n",
    "sel.register(sock,selectors.EVENT_READ,accept) #注册事件\n",
    "while True:\n",
    "    print(\"waiting......\")\n",
    "    events=sel.select() #监听  [（key，mask）]\n",
    "    for key,mask in events:\n",
    "        print(key.data)\n",
    "        print(key.fileobj)\n",
    "        print(mask)\n",
    "        func=key.data  #拿到的是函数\n",
    "        obj=key.fileobj  #拿到的是sock对象文件描述符（fd）\n",
    "        \n",
    "        func(obj,mask)\n",
    "\n",
    "        \n",
    "#客户端\n",
    "import socket\n",
    "sock=socket.socket()\n",
    "sock.connect((\"127.0.0.1\",8000))\n",
    "while True:\n",
    "    msg=input('>>')\n",
    "    sock.send(msg.encode('utf8'))\n",
    "    data=sock.recv(1024)\n",
    "    print(data.decode('utf8'))"
   ]
  },
  {
   "cell_type": "code",
   "execution_count": null,
   "metadata": {},
   "outputs": [],
   "source": [
    "# 代码说明：\n",
    "# 初始化\n",
    "sel=selectors.DefaultSelector()\n",
    "# 注册\n",
    "sel.register([对象],[事件],[注册数据，一般是回调函数])\n",
    "# 启动监听\n",
    "event = sel.select()\n",
    "# 处理事件\n",
    "for key, mask in events:\n",
    "    func = key.data\n",
    "    fileobj = key.fileobj\n",
    "    # 在回调中对fileIO 进行处理\n",
    "    func(fileobj)\n"
   ]
  }
 ],
 "metadata": {
  "kernelspec": {
   "display_name": "Python 3",
   "language": "python",
   "name": "python3"
  },
  "language_info": {
   "codemirror_mode": {
    "name": "ipython",
    "version": 3
   },
   "file_extension": ".py",
   "mimetype": "text/x-python",
   "name": "python",
   "nbconvert_exporter": "python",
   "pygments_lexer": "ipython3",
   "version": "3.6.6"
  }
 },
 "nbformat": 4,
 "nbformat_minor": 2
}
