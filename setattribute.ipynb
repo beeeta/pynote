{
 "cells": [
  {
   "cell_type": "code",
   "execution_count": 4,
   "metadata": {},
   "outputs": [
    {
     "name": "stdout",
     "output_type": "stream",
     "text": [
      "set desc\n",
      "{'desc': 111}\n",
      "get desc\n",
      "111\n"
     ]
    }
   ],
   "source": [
    "class Desc:\n",
    "    \n",
    "    def __get__(self,obj,typ):\n",
    "        print('get desc')\n",
    "        return super(typ,obj).__getattribute__('desc')\n",
    "    \n",
    "    def __set__(self,obj,value):\n",
    "        print('set desc')\n",
    "        obj.__dict__['desc'] = value\n",
    "\n",
    "class Foo:\n",
    "    d = Desc()\n",
    "    \n",
    "foo = Foo()\n",
    "foo.d = 111\n",
    "print(foo.__dict__)\n",
    "print(foo.d)\n",
    "    \n",
    "\n",
    "    \n",
    "\n"
   ]
  },
  {
   "cell_type": "code",
   "execution_count": null,
   "metadata": {},
   "outputs": [],
   "source": []
  }
 ],
 "metadata": {
  "kernelspec": {
   "display_name": "Python 3",
   "language": "python",
   "name": "python3"
  },
  "language_info": {
   "codemirror_mode": {
    "name": "ipython",
    "version": 3
   },
   "file_extension": ".py",
   "mimetype": "text/x-python",
   "name": "python",
   "nbconvert_exporter": "python",
   "pygments_lexer": "ipython3",
   "version": "3.6.6"
  }
 },
 "nbformat": 4,
 "nbformat_minor": 2
}
