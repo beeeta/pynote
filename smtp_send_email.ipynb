{
 "cells": [
  {
   "cell_type": "code",
   "execution_count": 15,
   "metadata": {},
   "outputs": [
    {
     "name": "stdout",
     "output_type": "stream",
     "text": [
      "发送成功\n"
     ]
    }
   ],
   "source": [
    "# 这里记录基本的发送过程，富文本和附件可使用email模块对内容进行封装\n",
    "# https://blog.csdn.net/freesigefei/article/details/51313155\n",
    "import smtplib\n",
    "import traceback\n",
    "import os\n",
    "\n",
    "sender = \"beeeta@qq.com\"\n",
    "recipient = [\"betalun@163.com\"]\n",
    "# SMTP 服务器验证密码\n",
    "password = os.getenv('EMAIL_PASSKEY') or 'need to be set'\n",
    "subject = \"Test email from Python\"\n",
    "text = \"Hello from Python\"\n",
    "\n",
    "try:   \n",
    "    smtp_server = smtplib.SMTP_SSL(\"smtp.qq.com\", 465)\n",
    "    smtp_server.login(sender, password)\n",
    "    message = \"Subject: {}\\n\\n{}\".format(subject, text)\n",
    "    smtp_server.sendmail(sender, recipient, message)\n",
    "    smtp_server.close()\n",
    "    print('发送成功！')\n",
    "except:\n",
    "    traceback.print_exc()\n",
    "    print('发送失败了')"
   ]
  },
  {
   "cell_type": "code",
   "execution_count": null,
   "metadata": {},
   "outputs": [],
   "source": []
  }
 ],
 "metadata": {
  "kernelspec": {
   "display_name": "Python 3",
   "language": "python",
   "name": "python3"
  },
  "language_info": {
   "codemirror_mode": {
    "name": "ipython",
    "version": 3
   },
   "file_extension": ".py",
   "mimetype": "text/x-python",
   "name": "python",
   "nbconvert_exporter": "python",
   "pygments_lexer": "ipython3",
   "version": "3.6.5"
  }
 },
 "nbformat": 4,
 "nbformat_minor": 2
}
