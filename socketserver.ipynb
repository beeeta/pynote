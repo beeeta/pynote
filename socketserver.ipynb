{
 "cells": [
  {
   "cell_type": "code",
   "execution_count": null,
   "metadata": {},
   "outputs": [],
   "source": [
    "# Pyton3.4+ only\n",
    "# Reference: selectors\n",
    "import selectors\n",
    "import socket\n",
    "import contextlib\n",
    "\n",
    "@contextlib.contextmanager\n",
    "def Server(host,port):\n",
    "    try:\n",
    "        s = socket.socket(socket.AF_INET, socket.SOCK_STREAM)\n",
    "        s.setsockopt(socket.SOL_SOCKET, socket.SO_REUSEADDR, 1)\n",
    "        s.bind((host,port))\n",
    "        s.listen(10)\n",
    "        sel = selectors.DefaultSelector()\n",
    "        yield s, sel\n",
    "    except socket.error:\n",
    "        print(\"Get socket error\")\n",
    "        raise\n",
    "    finally:\n",
    "        if s:\n",
    "            s.close()\n",
    "\n",
    "def read_handler(conn, sel):\n",
    "    msg = conn.recv(1024)\n",
    "    if msg:\n",
    "        conn.send(msg)\n",
    "    else:\n",
    "        sel.unregister(conn)\n",
    "        conn.close()\n",
    "\n",
    "def accept_handler(s, sel):\n",
    "    conn, _ = s.accept()\n",
    "    sel.register(conn, selectors.EVENT_READ, read_handler)\n",
    "\n",
    "host = 'localhost'\n",
    "port = 5566\n",
    "with Server(host, port) as (s,sel):\n",
    "    sel.register(s, selectors.EVENT_READ, accept_handler)\n",
    "    while True:\n",
    "        events = sel.select()\n",
    "        for sel_key, m in events:\n",
    "            handler = sel_key.data\n",
    "            handler(sel_key.fileobj, sel)"
   ]
  },
  {
   "cell_type": "code",
   "execution_count": null,
   "metadata": {},
   "outputs": [],
   "source": []
  }
 ],
 "metadata": {
  "kernelspec": {
   "display_name": "Python 3",
   "language": "python",
   "name": "python3"
  },
  "language_info": {
   "codemirror_mode": {
    "name": "ipython",
    "version": 3
   },
   "file_extension": ".py",
   "mimetype": "text/x-python",
   "name": "python",
   "nbconvert_exporter": "python",
   "pygments_lexer": "ipython3",
   "version": "3.6.6"
  }
 },
 "nbformat": 4,
 "nbformat_minor": 2
}
