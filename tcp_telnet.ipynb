{
 "cells": [
  {
   "cell_type": "code",
   "execution_count": null,
   "metadata": {},
   "outputs": [],
   "source": [
    "# tcp shell server"
   ]
  },
  {
   "cell_type": "code",
   "execution_count": null,
   "metadata": {},
   "outputs": [],
   "source": [
    "import socket\n",
    "from threading import Thread\n",
    "from subprocess import Popen, PIPE\n",
    "\n",
    "server = socket.socket(socket.AF_INET,socket.SOCK_STREAM)\n",
    "server.bind(('0.0.0.0',8999))\n",
    "print('listen port:{}'.format(8999))\n",
    "server.listen(10)\n",
    "\n",
    "def handler(client,addr):\n",
    "    while True:\n",
    "        res = client.recv(1024).decode('utf-8')\n",
    "        if res == 'quit':\n",
    "            client.send('logout success!'.encode('utf-8'))\n",
    "            print('{}:client logout'.format(addr))\n",
    "            break\n",
    "\n",
    "        commands = res.split(\" \")\n",
    "        p = Popen(commands,stdout=PIPE,stderr=PIPE,shell=True)\n",
    "        stdout,stderr = p.communicate()\n",
    "        print('execute command:', commands)\n",
    "        client.send('execute result:{}'.format(stdout.decode('gbk')).encode('utf-8'))\n",
    "\n",
    "while True:\n",
    "    client,addr = server.accept()\n",
    "    print('build connection {}'.format(addr))\n",
    "    thread = Thread(target=handler,args=(client,addr))\n",
    "    thread.start()\n",
    "\n"
   ]
  },
  {
   "cell_type": "code",
   "execution_count": null,
   "metadata": {},
   "outputs": [],
   "source": [
    "# tcp shell client"
   ]
  },
  {
   "cell_type": "code",
   "execution_count": null,
   "metadata": {},
   "outputs": [],
   "source": [
    "import socket\n",
    "\n",
    "client = socket.socket(socket.AF_INET,socket.SOCK_STREAM)\n",
    "client.connect(('localhost',8999))\n",
    "while True:\n",
    "    row = input(\">:\").encode('utf-8')\n",
    "    client.send(row)\n",
    "    print(client.recv(1024).decode('utf-8'))\n",
    "\n"
   ]
  }
 ],
 "metadata": {
  "kernelspec": {
   "display_name": "Python 3",
   "language": "python",
   "name": "python3"
  },
  "language_info": {
   "codemirror_mode": {
    "name": "ipython",
    "version": 3
   },
   "file_extension": ".py",
   "mimetype": "text/x-python",
   "name": "python",
   "nbconvert_exporter": "python",
   "pygments_lexer": "ipython3",
   "version": "3.6.6"
  }
 },
 "nbformat": 4,
 "nbformat_minor": 2
}
