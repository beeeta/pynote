{
 "cells": [
  {
   "cell_type": "code",
   "execution_count": 3,
   "metadata": {},
   "outputs": [
    {
     "name": "stdout",
     "output_type": "stream",
     "text": [
      "wrapper begin\n",
      "after define inner\n",
      "TestMeta class inited\n",
      "Class Test init\n",
      "init TestMeta new method\n"
     ]
    }
   ],
   "source": [
    "\n",
    "def wrapper(func):\n",
    "    print('wrapper begin')\n",
    "    def inner(*arg,**kws):\n",
    "        return func(*arg,**kws)\n",
    "    print('after define inner')\n",
    "    return inner\n",
    "\n",
    "@wrapper\n",
    "def abc():\n",
    "    print('abc begin')\n",
    "\n",
    "class TestMeta(type):\n",
    "    print('TestMeta class inited')\n",
    "    def __new__(cls, *args, **kwargs):\n",
    "        print('init TestMeta new method')\n",
    "        super(TestMeta, cls).__new__(cls, *args, **kwargs)\n",
    "\n",
    "    def __init__(self):\n",
    "        print('instance of TestMeta inited')\n",
    "    \n",
    "\n",
    "class Test(metaclass=TestMeta):\n",
    "    print('Class Test init')\n",
    "    def __new__(cls, *args, **kwargs):\n",
    "        print('init Test new method')\n",
    "        super(Test, cls).__new__(cls, *args, **kwargs)\n",
    "\n",
    "    def __init__(self):\n",
    "        print('instance of Test inited')\n"
   ]
  },
  {
   "cell_type": "code",
   "execution_count": null,
   "metadata": {},
   "outputs": [],
   "source": []
  }
 ],
 "metadata": {
  "kernelspec": {
   "display_name": "Python 3",
   "language": "python",
   "name": "python3"
  },
  "language_info": {
   "codemirror_mode": {
    "name": "ipython",
    "version": 3
   },
   "file_extension": ".py",
   "mimetype": "text/x-python",
   "name": "python",
   "nbconvert_exporter": "python",
   "pygments_lexer": "ipython3",
   "version": "3.6.5"
  }
 },
 "nbformat": 4,
 "nbformat_minor": 2
}
